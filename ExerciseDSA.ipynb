{
  "nbformat": 4,
  "nbformat_minor": 0,
  "metadata": {
    "colab": {
      "provenance": [],
      "authorship_tag": "ABX9TyMjX4Z85Sz16eiUwy1Bxo32",
      "include_colab_link": true
    },
    "kernelspec": {
      "name": "python3",
      "display_name": "Python 3"
    },
    "language_info": {
      "name": "python"
    }
  },
  "cells": [
    {
      "cell_type": "markdown",
      "metadata": {
        "id": "view-in-github",
        "colab_type": "text"
      },
      "source": [
        "<a href=\"https://colab.research.google.com/github/vibhajoshi/ExerciseDSA/blob/main/ExerciseDSA.ipynb\" target=\"_parent\"><img src=\"https://colab.research.google.com/assets/colab-badge.svg\" alt=\"Open In Colab\"/></a>"
      ]
    },
    {
      "cell_type": "markdown",
      "source": [
        "Q1. Let us say your expense for every month are listed below,\n",
        "January - 2200\n",
        "February - 2350\n",
        "March - 2600\n",
        "April - 2130\n",
        "May - 2190\n",
        "Create a list to store these monthly expenses and using that find out,\n",
        "1. In Feb, how many dollars you spent extra compare to January?\n",
        "2. Find out your total expense in first quarter (first three months) of the year.\n",
        "3. Find out if you spent exactly 2000 dollars in any month\n",
        "4. June month just finished and your expense is 1980 dollar. Add this item to our monthly expense list\n",
        "5. You returned an item that you bought in a month of April and\n",
        "got a refund of 200$. Make a correction to your monthly expense list\n",
        "based on this"
      ],
      "metadata": {
        "id": "P0ojq7iA0MlA"
      }
    },
    {
      "cell_type": "code",
      "execution_count": null,
      "metadata": {
        "colab": {
          "base_uri": "https://localhost:8080/"
        },
        "id": "59BR_Jzi0KQT",
        "outputId": "fb9e15a1-0290-49bd-bf8f-f8433f992aff"
      },
      "outputs": [
        {
          "output_type": "stream",
          "name": "stdout",
          "text": [
            "150$ extra I spent compared to Jan\n",
            "7150 $ is my total expense in first quarter of the year\n",
            "No you've not spent 2000$ exactly in any month\n",
            "Expense at the end of June is [{0: 2200}, {1: 2350}, {2: 2600}, {3: 2130}, {4: 2190}, {5: 1980}]\n",
            "Expense after 200$ refund in April [{0: 2200}, {1: 2350}, {2: 2600}, {3: 1930}, {4: 2190}, {5: 1980}]\n"
          ]
        }
      ],
      "source": [
        "\n",
        "expense=[\n",
        "    {0: 2200},\n",
        "    {1: 2350},\n",
        "    {2:2600},\n",
        "    {3:2130},\n",
        "    {4:2190},\n",
        "]\n",
        "print(str(int(expense[1][1]- expense[0][0])) + \"$ extra I spent compared to Jan\")    #\n",
        "print(str(int(expense[0][0]+expense[1][1]+expense[2][2]))+\" $ is my total expense in first quarter of the year\")\n",
        "for i in range(0,5):\n",
        "  if(expense[i][i]==2000):\n",
        "    print(str(int(expense[i][i])) + \" is in the month of\",i+1)\n",
        "    break\n",
        "else:\n",
        "  print(\"No you've not spent 2000$ exactly in any month\")\n",
        "\n",
        "expense.append({5:1980})\n",
        "print(\"Expense at the end of June is\",expense)\n",
        "expense[3][3]=2130-200\n",
        "print(\"Expense after 200$ refund in April\",expense)"
      ]
    },
    {
      "cell_type": "code",
      "source": [
        "# 1. Let us say your expense for every month are listed below,\n",
        "# \t1. January -  2200\n",
        "#  \t2. February - 2350\n",
        "#     3. March - 2600\n",
        "#     4. April - 2130\n",
        "#     5. May - 2190\n",
        "#\n",
        "# Create a list to store these monthly expenses and using that find out,\n",
        "#\n",
        "# 1. In Feb, how many dollars you spent extra compare to January?\n",
        "# 2. Find out your total expense in first quarter (first three months) of the year.\n",
        "# 3. Find out if you spent exactly 2000 dollars in any month\n",
        "# 4. June month just finished and your expense is 1980 dollar. Add this item to our monthly expense list\n",
        "# 5. You returned an item that you bought in a month of April and\n",
        "# got a refund of 200$. Make a correction to your monthly expense list\n",
        "# based on this\n",
        "\n",
        "exp = [2200,2350,2600,2130,2190]\n",
        "\n",
        "# 1. In Feb, how many dollars you spent extra compare to January?\n",
        "print(\"In feb this much extra was spent compared to jan:\",exp[1]-exp[0]) # 150\n",
        "\n",
        "# 2. Find out your total expense in first quarter (first three months) of the year\n",
        "print(\"Expense for first quarter:\",exp[0]+exp[1]+exp[2]) # 7150\n",
        "\n",
        "# 3. Find out if you spent exactly 2000 dollars in any month\n",
        "print(\"Did I spent 2000$ in any month? \", 2000 in exp) # False\n",
        "\n",
        "# 4. June month just finished and your expense is 1980 dollar. Add this item to our monthly expense list\n",
        "exp.append(1980)\n",
        "print(\"Expenses at the end of June:\",exp) # [2200, 2350, 2600, 2130, 2190, 1980]\n",
        "\n",
        "# 5. You returned an item that you bought in a month of April and\n",
        "# got a refund of 200$. Make a correction to your monthly expense list\n",
        "# based on this\n",
        "exp[3] = exp[3] - 200\n",
        "print(\"Expenses after 200$ return in April:\",exp) # [2200, 2350, 2600, 1930, 2190, 1980]"
      ],
      "metadata": {
        "colab": {
          "base_uri": "https://localhost:8080/"
        },
        "id": "UEzyw0ppCTbX",
        "outputId": "0ccbff1e-cff6-4e48-9ebc-5e28bc0bc08e"
      },
      "execution_count": null,
      "outputs": [
        {
          "output_type": "stream",
          "name": "stdout",
          "text": [
            "In feb this much extra was spent compared to jan: 150\n",
            "Expense for first quarter: 7150\n",
            "Did I spent 2000$ in any month?  False\n",
            "Expenses at the end of June: [2200, 2350, 2600, 2130, 2190, 1980]\n",
            "Expenses after 200$ return in April: [2200, 2350, 2600, 1930, 2190, 1980]\n"
          ]
        }
      ]
    },
    {
      "cell_type": "markdown",
      "source": [
        "Q2. You have a list of your favourite marvel super heros.\n",
        "heros=['spider man','thor','hulk','iron man','captain america']\n",
        "Using this find out,\n",
        "\n",
        "1. Length of the list\n",
        "2. Add 'black panther' at the end of this list\n",
        "3. You realize that you need to add 'black panther' after 'hulk',\n",
        "   so remove it from the list first and then add it after 'hulk'\n",
        "4. Now you don't like thor and hulk because they get angry easily :)\n",
        "   So you want to remove thor and hulk from list and replace them with doctor strange (because he is cool).\n",
        "   Do that with one line of code.\n",
        "5. Sort the heros list in alphabetical order (Hint. Use dir() functions to list down all functions available in list)\n"
      ],
      "metadata": {
        "id": "UdQ6Fz_yGON8"
      }
    },
    {
      "cell_type": "code",
      "source": [
        "heros=['spider man','thor','hulk','iron man','captain america']\n",
        "print(\"Length of the list is\", len(heros))\n",
        "heros.append('black panther')\n",
        "print('Added black panther at the end of the list',heros)\n",
        "heros.remove('black panther')\n",
        "print(\"Removed black panther from the list\",heros)\n",
        "heros[3]=('black panther')\n",
        "print(\"Added black panther after hulk\",heros)\n",
        "heros[1:3]=['doctor strange']\n",
        "print(\"Removed thor and hulk bcz they get angry easily and replaced them with doctor strange \",heros)\n",
        "heros.sort()\n",
        "print(\"Sorted list\",heros)"
      ],
      "metadata": {
        "colab": {
          "base_uri": "https://localhost:8080/"
        },
        "id": "Q7A8UPgLGJir",
        "outputId": "0a4369e2-af75-4fc7-a5a9-93bd98c93c3d"
      },
      "execution_count": 5,
      "outputs": [
        {
          "output_type": "stream",
          "name": "stdout",
          "text": [
            "Length of the list is 5\n",
            "Added black panther at the end of the list ['spider man', 'thor', 'hulk', 'iron man', 'captain america', 'black panther']\n",
            "Removed black panther from the list ['spider man', 'thor', 'hulk', 'iron man', 'captain america']\n",
            "Added black panther after hulk ['spider man', 'thor', 'hulk', 'black panther', 'captain america']\n",
            "Removed thor and hulk bcz they get angry easily and replaced them with doctor strange  ['spider man', 'doctor strange', 'black panther', 'captain america']\n",
            "Sorted list ['black panther', 'captain america', 'doctor strange', 'spider man']\n"
          ]
        }
      ]
    },
    {
      "cell_type": "code",
      "source": [
        "# 2. You have a list of your favourite marvel super heros\n",
        "# heros=['spider man','thor','hulk','iron man','captain america']\n",
        "# Using this list\n",
        "\n",
        "heros=['spider man','thor','hulk','iron man','captain america']\n",
        "# 1. Length of the list\n",
        "print(len(heros))\n",
        "# 2. Add 'black panther' at the end of this list\n",
        "heros.append('black panther')\n",
        "print(heros)\n",
        "# 3. You realize that you need to add 'black panther' after 'hulk',\n",
        "# so remove it from the list first and then add it after 'hulk'\n",
        "heros.remove('black panther')\n",
        "heros.insert(3,'black panther')\n",
        "print(heros)\n",
        "# 4. Now you don't like thor and hulk because they get angry easily :)\n",
        "#    So you want to remove thor and hulk from list and replace them with doctor strange (because he is cool).\n",
        "#    Do that with one line of code.\n",
        "heros[1:3]=['doctor strange']\n",
        "print(heros)\n",
        "# 5. Sort the list in alphabetical order\n",
        "heros.sort()\n",
        "print(heros)"
      ],
      "metadata": {
        "colab": {
          "base_uri": "https://localhost:8080/"
        },
        "id": "gGSz-07OjmVz",
        "outputId": "a0c79a03-f0da-459f-e6d9-dcf685490578"
      },
      "execution_count": 6,
      "outputs": [
        {
          "output_type": "stream",
          "name": "stdout",
          "text": [
            "5\n",
            "['spider man', 'thor', 'hulk', 'iron man', 'captain america', 'black panther']\n",
            "['spider man', 'thor', 'hulk', 'black panther', 'iron man', 'captain america']\n",
            "['spider man', 'doctor strange', 'black panther', 'iron man', 'captain america']\n",
            "['black panther', 'captain america', 'doctor strange', 'iron man', 'spider man']\n"
          ]
        }
      ]
    },
    {
      "cell_type": "markdown",
      "source": [
        "Q3. Create a list of all odd numbers between 1 and a max number. Max number is something you need to take from a user using input() function"
      ],
      "metadata": {
        "id": "LQo9tPPAjmEt"
      }
    },
    {
      "cell_type": "code",
      "source": [
        "n = int(input(\"Enter a max number to get the odd number list \"))\n",
        "print(\"Odd numbers from 1 to\",n)\n",
        "for i in range(0,n+1):\n",
        "  if i%2==1:\n",
        "    print(i)"
      ],
      "metadata": {
        "colab": {
          "base_uri": "https://localhost:8080/"
        },
        "id": "JU3uiuYHjyzk",
        "outputId": "d3183899-67ec-41cc-edb4-a6ccad7e5157"
      },
      "execution_count": 13,
      "outputs": [
        {
          "output_type": "stream",
          "name": "stdout",
          "text": [
            "Enter a max number to get the odd number list 7\n",
            "Odd numbers from 1 to 7\n",
            "1\n",
            "3\n",
            "5\n",
            "7\n"
          ]
        }
      ]
    },
    {
      "cell_type": "code",
      "source": [
        "max = int(input(\"Enter max number: \"))\n",
        "\n",
        "odd_numbers = []\n",
        "\n",
        "for i in range(1, max):\n",
        "    if i % 2 == 1:\n",
        "        odd_numbers.append(i)\n",
        "\n",
        "print(\"Odd numbers: \", odd_numbers)"
      ],
      "metadata": {
        "colab": {
          "base_uri": "https://localhost:8080/"
        },
        "id": "dmYmdgt2kzIU",
        "outputId": "43ada584-7b56-4605-dec9-c19ab852788e"
      },
      "execution_count": 14,
      "outputs": [
        {
          "output_type": "stream",
          "name": "stdout",
          "text": [
            "Enter max number: 7\n",
            "Odd numbers:  [1, 3, 5]\n"
          ]
        }
      ]
    }
  ]
}